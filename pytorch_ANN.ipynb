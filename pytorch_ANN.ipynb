{
  "nbformat": 4,
  "nbformat_minor": 0,
  "metadata": {
    "colab": {
      "name": "pytorch_ANN.ipynb",
      "provenance": []
    },
    "kernelspec": {
      "name": "python3",
      "display_name": "Python 3"
    },
    "accelerator": "GPU"
  },
  "cells": [
    {
      "cell_type": "code",
      "metadata": {
        "id": "_8zBbilqFx6X",
        "colab_type": "code",
        "colab": {}
      },
      "source": [
        "import torch\n",
        "import numpy as np\n",
        "from sklearn.datasets import make_blobs\n",
        "import matplotlib.pyplot as plt \n",
        "import torch.nn.functional as F"
      ],
      "execution_count": 0,
      "outputs": []
    },
    {
      "cell_type": "code",
      "metadata": {
        "id": "ubth4vxKH3Lw",
        "colab_type": "code",
        "colab": {}
      },
      "source": [
        "n_dim = 2\n",
        "x_train, y_train = make_blobs(n_samples= 80, n_features= n_dim, centers = [[1,1],[-1,-1],[1,-1],[-1,1]], shuffle = True, cluster_std = 0.3)\n",
        "x_test, y_test = make_blobs(n_samples = 20, n_features = n_dim, centers = [[1,1],[-1,-1],[1,-1],[-1,1]], shuffle = True, cluster_std = 0.3)"
      ],
      "execution_count": 0,
      "outputs": []
    },
    {
      "cell_type": "code",
      "metadata": {
        "id": "kfK6VC_SNbm_",
        "colab_type": "code",
        "colab": {}
      },
      "source": [
        "def label_map(y_, from_, to_):\n",
        "  y = np.copy(y_)\n",
        "  for f in from_:\n",
        "    y[y_ == f] = to_\n",
        "  return y \n",
        "\n",
        "y_train = label_map(y_train, [0,1], 0)\n",
        "y_train = label_map(y_train, [2,3], 1)\n",
        "y_test = label_map(y_test, [0,1], 0)\n",
        "y_test = label_map(y_test, [2,3], 1)"
      ],
      "execution_count": 0,
      "outputs": []
    },
    {
      "cell_type": "code",
      "metadata": {
        "id": "CCB_7S31YIbT",
        "colab_type": "code",
        "colab": {}
      },
      "source": [
        "x_train = torch.FloatTensor(x_train)\n",
        "x_test = torch.FloatTensor(x_test)\n",
        "y_train = torch.FloatTensor(y_train)\n",
        "y_test = torch.FloatTensor(y_test)"
      ],
      "execution_count": 0,
      "outputs": []
    },
    {
      "cell_type": "code",
      "metadata": {
        "id": "4wYL1mL0hvx2",
        "colab_type": "code",
        "colab": {}
      },
      "source": [
        "class NeuralNet(torch.nn.Module):   # 신경망 모듈(torch.nn.Module)을 상속받는 클래스로 정의\n",
        "  def __init__(self, input_size, hidden_size):\n",
        "    super(NeuralNet, self).__init__()\n",
        "    self.input_size = input_size\n",
        "    self.hidden_size = hidden_size\n",
        "    self.linear_1 = torch.nn.Linear(self.input_size, self.hidden_size)\n",
        "    self.relu = torch.nn.ReLU()\n",
        "    self.linear_2 = torch.nn.Linear(self.hidden_size,1)\n",
        "    self.sigmoid = torch.nn.Sigmoid()\n",
        "  def forward(self, input_tensor):\n",
        "    linear1 = self.linear_1(input_tensor)\n",
        "    relu = self.relu(linear1)\n",
        "    linear2 = self.linear_2(relu)\n",
        "    output = self.sigmoid(linear2)\n",
        "    return output\n"
      ],
      "execution_count": 0,
      "outputs": []
    },
    {
      "cell_type": "code",
      "metadata": {
        "id": "4QufKJ5gWoP-",
        "colab_type": "code",
        "colab": {}
      },
      "source": [
        "model = NeuralNet(2,5) # input_size = 2, hidden_size = 5\n",
        "lr = 0.03\n",
        "loss = torch.nn.BCELoss()\n",
        "epochs = 2000\n",
        "optimizer = torch.optim.SGD(model.parameters(), lr = lr)\n"
      ],
      "execution_count": 0,
      "outputs": []
    },
    {
      "cell_type": "code",
      "metadata": {
        "id": "LSTZvedhX-5n",
        "colab_type": "code",
        "colab": {
          "base_uri": "https://localhost:8080/",
          "height": 372
        },
        "outputId": "bb5c32e3-3c4f-4dfc-94ea-64a1f49cecc9"
      },
      "source": [
        "for epoch in range(epochs):\n",
        "  model.train()\n",
        "  optimizer.zero_grad()\n",
        "  train_output = model(x_train)\n",
        "  train_loss = loss(train_output.squeeze(), y_train)\n",
        "  if epoch % 100 == 0:\n",
        "    print('Train loss at {} is {}'.format(epoch, train_loss.item()))\n",
        "  train_loss.backward()\n",
        "  optimizer.step()\n"
      ],
      "execution_count": 19,
      "outputs": [
        {
          "output_type": "stream",
          "text": [
            "Train loss at 0 is 0.6783139109611511\n",
            "Train loss at 100 is 0.6012202501296997\n",
            "Train loss at 200 is 0.5046395063400269\n",
            "Train loss at 300 is 0.4013705849647522\n",
            "Train loss at 400 is 0.31782424449920654\n",
            "Train loss at 500 is 0.25847089290618896\n",
            "Train loss at 600 is 0.215714693069458\n",
            "Train loss at 700 is 0.1825922727584839\n",
            "Train loss at 800 is 0.15626756846904755\n",
            "Train loss at 900 is 0.13573947548866272\n",
            "Train loss at 1000 is 0.11952714622020721\n",
            "Train loss at 1100 is 0.10651693493127823\n",
            "Train loss at 1200 is 0.09603817015886307\n",
            "Train loss at 1300 is 0.08731617778539658\n",
            "Train loss at 1400 is 0.07999901473522186\n",
            "Train loss at 1500 is 0.07377967238426208\n",
            "Train loss at 1600 is 0.06841946393251419\n",
            "Train loss at 1700 is 0.06375174224376678\n",
            "Train loss at 1800 is 0.05968950316309929\n",
            "Train loss at 1900 is 0.0560983307659626\n"
          ],
          "name": "stdout"
        }
      ]
    },
    {
      "cell_type": "code",
      "metadata": {
        "id": "CT7vgbGsavWF",
        "colab_type": "code",
        "colab": {
          "base_uri": "https://localhost:8080/",
          "height": 34
        },
        "outputId": "f2da3bbd-8ff0-49e3-a01e-30761bdc166a"
      },
      "source": [
        "model.eval()\n",
        "test_loss_before = loss(torch.squeeze(model(x_test)), y_test)\n",
        "print('After Training, test loss is {}'.format(test_loss_before.item()))"
      ],
      "execution_count": 21,
      "outputs": [
        {
          "output_type": "stream",
          "text": [
            "After Training, test loss is 0.04683858901262283\n"
          ],
          "name": "stdout"
        }
      ]
    },
    {
      "cell_type": "code",
      "metadata": {
        "id": "SNTnJd4VgUWn",
        "colab_type": "code",
        "colab": {
          "base_uri": "https://localhost:8080/",
          "height": 105
        },
        "outputId": "94058a2e-97e3-4d93-cff4-77410a7c3210"
      },
      "source": [
        "torch.save(model.state_dict(), './model.pt')\n",
        "print('state_dict format of the model: {}'.format(model.state_dict()))"
      ],
      "execution_count": 22,
      "outputs": [
        {
          "output_type": "stream",
          "text": [
            "state_dict format of the model: OrderedDict([('linear_1.weight', tensor([[ 1.0217, -1.6512],\n",
            "        [ 0.8446, -1.3668],\n",
            "        [-1.9872,  0.9694],\n",
            "        [-1.4273, -1.7397],\n",
            "        [-0.9738,  0.3629]])), ('linear_1.bias', tensor([-0.0447, -0.0343, -0.1614, -0.1951,  0.1334])), ('linear_2.weight', tensor([[ 1.8853,  1.4202,  2.0130, -2.0876,  0.6256]])), ('linear_2.bias', tensor([-2.1199]))])\n"
          ],
          "name": "stdout"
        }
      ]
    },
    {
      "cell_type": "code",
      "metadata": {
        "id": "QHUVC0wjgqOg",
        "colab_type": "code",
        "colab": {
          "base_uri": "https://localhost:8080/",
          "height": 34
        },
        "outputId": "de5876b7-5e36-41f0-e6e0-bf5f16290a33"
      },
      "source": [
        "new_model = NeuralNet(2,5)\n",
        "new_model.load_state_dict(torch.load('./model.pt'))"
      ],
      "execution_count": 23,
      "outputs": [
        {
          "output_type": "execute_result",
          "data": {
            "text/plain": [
              "<All keys matched successfully>"
            ]
          },
          "metadata": {
            "tags": []
          },
          "execution_count": 23
        }
      ]
    },
    {
      "cell_type": "code",
      "metadata": {
        "id": "lpGUI6sRhGNI",
        "colab_type": "code",
        "colab": {
          "base_uri": "https://localhost:8080/",
          "height": 34
        },
        "outputId": "38e07ef2-b0e7-44a8-cd3b-cf1292c11d58"
      },
      "source": [
        "new_model.eval()\n",
        "print('벡터 [-1,1]이 레이블 1을 가질 확률은 {}'.format(new_model(torch.FloatTensor([-1,1])).item()))"
      ],
      "execution_count": 24,
      "outputs": [
        {
          "output_type": "stream",
          "text": [
            "벡터 [-1,1]이 레이블 1을 가질 확률은 0.9881879687309265\n"
          ],
          "name": "stdout"
        }
      ]
    }
  ]
}